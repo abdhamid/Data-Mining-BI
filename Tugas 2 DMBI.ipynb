{
 "cells": [
  {
   "cell_type": "markdown",
   "metadata": {},
   "source": [
    "### Tugas 2 - DATA EXPLORATION AND PREPROCESSING\n",
    "1. Abdul Hamid Umar (17/411323/PA/17843)\n",
    "2. Akmal Adi Sulistyo (17/412630/PA/17949)\n",
    "3. Rayhan Rizqi Bebryan (17/414613/PA/18113)\n",
    "4. Achmad Quraish Haris ()"
   ]
  },
  {
   "cell_type": "markdown",
   "metadata": {},
   "source": [
    "### A. Data Exploration"
   ]
  },
  {
   "cell_type": "code",
   "execution_count": 2,
   "metadata": {},
   "outputs": [],
   "source": [
    "import pandas as pd\n",
    "import numpy as np\n",
    "import matplotlib.pyplot as plt\n",
    "import seaborn as sns"
   ]
  },
  {
   "cell_type": "code",
   "execution_count": 3,
   "metadata": {},
   "outputs": [
    {
     "data": {
      "text/html": [
       "<div>\n",
       "<style scoped>\n",
       "    .dataframe tbody tr th:only-of-type {\n",
       "        vertical-align: middle;\n",
       "    }\n",
       "\n",
       "    .dataframe tbody tr th {\n",
       "        vertical-align: top;\n",
       "    }\n",
       "\n",
       "    .dataframe thead th {\n",
       "        text-align: right;\n",
       "    }\n",
       "</style>\n",
       "<table border=\"1\" class=\"dataframe\">\n",
       "  <thead>\n",
       "    <tr style=\"text-align: right;\">\n",
       "      <th></th>\n",
       "      <th>Cust ID</th>\n",
       "      <th>Gender</th>\n",
       "      <th>Income</th>\n",
       "      <th>Age</th>\n",
       "      <th>Rentals</th>\n",
       "      <th>Avg Per Visit</th>\n",
       "      <th>Incidentals</th>\n",
       "      <th>Genre</th>\n",
       "      <th>Unnamed: 8</th>\n",
       "      <th>Unnamed: 9</th>\n",
       "      <th>Unnamed: 10</th>\n",
       "    </tr>\n",
       "  </thead>\n",
       "  <tbody>\n",
       "    <tr>\n",
       "      <th>0</th>\n",
       "      <td>1</td>\n",
       "      <td>M</td>\n",
       "      <td>45000</td>\n",
       "      <td>25</td>\n",
       "      <td>27</td>\n",
       "      <td>2.5</td>\n",
       "      <td>Yes</td>\n",
       "      <td>Action</td>\n",
       "      <td>NaN</td>\n",
       "      <td>NaN</td>\n",
       "      <td>NaN</td>\n",
       "    </tr>\n",
       "    <tr>\n",
       "      <th>1</th>\n",
       "      <td>2</td>\n",
       "      <td>F</td>\n",
       "      <td>54000</td>\n",
       "      <td>33</td>\n",
       "      <td>12</td>\n",
       "      <td>3.4</td>\n",
       "      <td>No</td>\n",
       "      <td>Drama</td>\n",
       "      <td>NaN</td>\n",
       "      <td>NaN</td>\n",
       "      <td>NaN</td>\n",
       "    </tr>\n",
       "    <tr>\n",
       "      <th>2</th>\n",
       "      <td>3</td>\n",
       "      <td>F</td>\n",
       "      <td>32000</td>\n",
       "      <td>20</td>\n",
       "      <td>42</td>\n",
       "      <td>1.6</td>\n",
       "      <td>No</td>\n",
       "      <td>Comedy</td>\n",
       "      <td>NaN</td>\n",
       "      <td>NaN</td>\n",
       "      <td>NaN</td>\n",
       "    </tr>\n",
       "    <tr>\n",
       "      <th>3</th>\n",
       "      <td>4</td>\n",
       "      <td>F</td>\n",
       "      <td>59000</td>\n",
       "      <td>70</td>\n",
       "      <td>16</td>\n",
       "      <td>4.2</td>\n",
       "      <td>Yes</td>\n",
       "      <td>Drama</td>\n",
       "      <td>NaN</td>\n",
       "      <td>NaN</td>\n",
       "      <td>NaN</td>\n",
       "    </tr>\n",
       "    <tr>\n",
       "      <th>4</th>\n",
       "      <td>5</td>\n",
       "      <td>M</td>\n",
       "      <td>37000</td>\n",
       "      <td>35</td>\n",
       "      <td>25</td>\n",
       "      <td>3.2</td>\n",
       "      <td>Yes</td>\n",
       "      <td>Action</td>\n",
       "      <td>NaN</td>\n",
       "      <td>NaN</td>\n",
       "      <td>NaN</td>\n",
       "    </tr>\n",
       "  </tbody>\n",
       "</table>\n",
       "</div>"
      ],
      "text/plain": [
       "   Cust ID Gender  Income  Age  Rentals  Avg Per Visit Incidentals   Genre  \\\n",
       "0        1      M   45000   25       27            2.5         Yes  Action   \n",
       "1        2      F   54000   33       12            3.4          No   Drama   \n",
       "2        3      F   32000   20       42            1.6          No  Comedy   \n",
       "3        4      F   59000   70       16            4.2         Yes   Drama   \n",
       "4        5      M   37000   35       25            3.2         Yes  Action   \n",
       "\n",
       "   Unnamed: 8  Unnamed: 9 Unnamed: 10  \n",
       "0         NaN         NaN         NaN  \n",
       "1         NaN         NaN         NaN  \n",
       "2         NaN         NaN         NaN  \n",
       "3         NaN         NaN         NaN  \n",
       "4         NaN         NaN         NaN  "
      ]
     },
     "execution_count": 3,
     "metadata": {},
     "output_type": "execute_result"
    }
   ],
   "source": [
    "df = pd.read_excel(\"Video-Store.xls\")\n",
    "df.head()"
   ]
  },
  {
   "cell_type": "markdown",
   "metadata": {},
   "source": [
    "#### a. Mean, median, mode dari kolom Income dan Age"
   ]
  },
  {
   "cell_type": "code",
   "execution_count": 127,
   "metadata": {},
   "outputs": [
    {
     "name": "stdout",
     "output_type": "stream",
     "text": [
      "Nilai dari kolom Income\n",
      "Mean : 42300.0\n",
      "Median : 41000.0\n",
      "Mode : 29000\n",
      "\n",
      "Nilai dari kolom Age\n",
      "Mean : 31.56\n",
      "Median : 30.0\n",
      "Mode : 25\n"
     ]
    }
   ],
   "source": [
    "income_mean = df[\"Income\"].mean()\n",
    "income_median = df[\"Income\"].median()\n",
    "income_mode = df[\"Income\"].mode()\n",
    "\n",
    "age_mean = df[\"Age\"].mean()\n",
    "age_median = df[\"Age\"].median()\n",
    "age_mode = df[\"Age\"].mode()\n",
    "\n",
    "\n",
    "print(\"Nilai dari kolom Income\\n\"+ \n",
    "      \"Mean : \" + str(income_mean) + \n",
    "      \"\\nMedian : \" + str(income_median) +\n",
    "      \"\\nMode : \" + str(income_mode[0]))\n",
    "\n",
    "print(\"\\nNilai dari kolom Age\\n\"+ \n",
    "      \"Mean : \" + str(age_mean) + \n",
    "      \"\\nMedian : \" + str(age_median) +\n",
    "      \"\\nMode : \" + str(age_mode[0]))"
   ]
  },
  {
   "cell_type": "markdown",
   "metadata": {},
   "source": [
    "Dapat dilihat bahwa atribut `Income` dan `Age` miring ke kanan (positively skewed)"
   ]
  },
  {
   "cell_type": "markdown",
   "metadata": {},
   "source": [
    "#### b. Histogram dari Income dan Age"
   ]
  },
  {
   "cell_type": "code",
   "execution_count": 128,
   "metadata": {
    "scrolled": true
   },
   "outputs": [
    {
     "data": {
      "text/plain": [
       "array([[<matplotlib.axes._subplots.AxesSubplot object at 0x000001E718D27780>,\n",
       "        <matplotlib.axes._subplots.AxesSubplot object at 0x000001E718D4BB38>]],\n",
       "      dtype=object)"
      ]
     },
     "execution_count": 128,
     "metadata": {},
     "output_type": "execute_result"
    },
    {
     "data": {
      "image/png": "[encoded data removed]",
      "text/plain": [
       "<Figure size 1080x360 with 2 Axes>"
      ]
     },
     "metadata": {
      "needs_background": "light"
     },
     "output_type": "display_data"
    }
   ],
   "source": [
    "age_income = df[[\"Age\", \"Income\"]]\n",
    "age_income.hist(figsize=(15,5))"
   ]
  },
  {
   "cell_type": "markdown",
   "metadata": {},
   "source": [
    "#### c.  Nilai min, max, Q1, Q2, Q3 dari Income dan Age"
   ]
  },
  {
   "cell_type": "code",
   "execution_count": 129,
   "metadata": {},
   "outputs": [
    {
     "name": "stdout",
     "output_type": "stream",
     "text": [
      "Nilai dari kolom Income\n",
      "Min : 1000\n",
      "Max : 89000\n",
      "Q1 : 26750.0\n",
      "Q2 : 41000.0\n",
      "Q3 : 56750.0\n",
      "\n",
      "Nilai dari kolom Age\n",
      "Min : 15\n",
      "Max : 70\n",
      "Q1 : 22.0\n",
      "Q2 : 30.0\n",
      "Q3 : 37.5\n"
     ]
    }
   ],
   "source": [
    "percentile = np.percentile(df[\"Income\"], [25,50,75])\n",
    "min_val = np.min(df[\"Income\"])\n",
    "max_val = np.max(df[\"Income\"])\n",
    "\n",
    "print(\"Nilai dari kolom Income\\n\"+ \n",
    "      \"Min : \" + str(min_val) + \n",
    "      \"\\nMax : \" + str(max_val) +\n",
    "      \"\\nQ1 : \" + str(percentile[0]) +\n",
    "      \"\\nQ2 : \" + str(percentile[1]) +\n",
    "      \"\\nQ3 : \" + str(percentile[2]))\n",
    "\n",
    "percentile = np.percentile(df[\"Age\"], [25,50,75])\n",
    "min_val = np.min(df[\"Age\"])\n",
    "max_val = np.max(df[\"Age\"])\n",
    "\n",
    "print(\"\\nNilai dari kolom Age\\n\"+ \n",
    "      \"Min : \" + str(min_val) + \n",
    "      \"\\nMax : \" + str(max_val) +\n",
    "      \"\\nQ1 : \" + str(percentile[0]) +\n",
    "      \"\\nQ2 : \" + str(percentile[1]) +\n",
    "      \"\\nQ3 : \" + str(percentile[2]))"
   ]
  },
  {
   "cell_type": "markdown",
   "metadata": {},
   "source": [
    "#### d. Boxplot dari Income dan Age"
   ]
  },
  {
   "cell_type": "code",
   "execution_count": 130,
   "metadata": {
    "scrolled": true
   },
   "outputs": [
    {
     "name": "stderr",
     "output_type": "stream",
     "text": [
      "C:\\Users\\User\\Anaconda3\\lib\\site-packages\\matplotlib\\figure.py:445: UserWarning: Matplotlib is currently using module://ipykernel.pylab.backend_inline, which is a non-GUI backend, so cannot show the figure.\n",
      "  % get_backend())\n"
     ]
    },
    {
     "data": {
      "image/png": "[encoded data removed]",
      "text/plain": [
       "<Figure size 720x288 with 2 Axes>"
      ]
     },
     "metadata": {
      "needs_background": "light"
     },
     "output_type": "display_data"
    }
   ],
   "source": [
    "fig, ax =plt.subplots(1,2, figsize=(10,4))\n",
    "sns.boxplot(x=\"Income\", data= df, showfliers=False, ax=ax[0])\n",
    "sns.boxplot(x=\"Age\", data= df, showfliers=False, ax=ax[1])\n",
    "fig.show()"
   ]
  },
  {
   "cell_type": "markdown",
   "metadata": {},
   "source": [
    "#### e. Rata - rata Income pelanggan pria dan wanita"
   ]
  },
  {
   "cell_type": "code",
   "execution_count": 131,
   "metadata": {},
   "outputs": [
    {
     "name": "stdout",
     "output_type": "stream",
     "text": [
      "Male customer average income : 41000.0\n",
      "Female customer average income : 43708.333333333336\n"
     ]
    }
   ],
   "source": [
    "male = df[df[\"Gender\"] == \"M\"]\n",
    "female = df[df[\"Gender\"] == \"F\"]\n",
    "\n",
    "print(\"Male customer average income :\", male[\"Income\"].mean())\n",
    "print(\"Female customer average income :\", female[\"Income\"].mean())"
   ]
  },
  {
   "cell_type": "markdown",
   "metadata": {},
   "source": [
    "Dapat disimpulkan bahwa pelanggan wanita memiliki rerata penghasilan yang lebih tinggi jika dibandingkan dengan pelanggan pria."
   ]
  },
  {
   "cell_type": "markdown",
   "metadata": {},
   "source": [
    "#### f. Genre film yang paling banyak ditonton pelanggan pria dan wanita"
   ]
  },
  {
   "cell_type": "code",
   "execution_count": 132,
   "metadata": {},
   "outputs": [
    {
     "name": "stdout",
     "output_type": "stream",
     "text": [
      "Male customer most watched genre : Action\n",
      "Female customer most watched genre : Drama\n"
     ]
    }
   ],
   "source": [
    "mgenre = male[\"Genre\"].mode()\n",
    "fgenre = female[\"Genre\"].mode()\n",
    "print(\"Male customer most watched genre :\", mgenre[0])\n",
    "print(\"Female customer most watched genre :\", fgenre[0])"
   ]
  },
  {
   "cell_type": "markdown",
   "metadata": {},
   "source": [
    "#### g. Rata - rata Income pelanggan pria dan wanita yang menyukai genre komedi"
   ]
  },
  {
   "cell_type": "code",
   "execution_count": 133,
   "metadata": {},
   "outputs": [
    {
     "name": "stdout",
     "output_type": "stream",
     "text": [
      "Comedy-loving male customer average income : 56000.0\n",
      "Comedy-loving female customer average income : 34000.0\n"
     ]
    }
   ],
   "source": [
    "comedy_male = male[male[\"Genre\"] == \"Comedy\"]\n",
    "comedy_female = female[female[\"Genre\"] == \"Comedy\"]\n",
    "\n",
    "print(\"Comedy-loving male customer average income :\", comedy_male[\"Income\"].mean())\n",
    "print(\"Comedy-loving female customer average income :\", comedy_female[\"Income\"].mean())"
   ]
  },
  {
   "cell_type": "markdown",
   "metadata": {},
   "source": [
    "Diantara penyuka film bergenre komedi, pelanggan pria memiliki rerata penghasilan yang lebih tinggi jika dibandingkan dengan pelanggan wanita."
   ]
  },
  {
   "cell_type": "markdown",
   "metadata": {},
   "source": [
    "#### h. Koefisien korelasi antara atribut numerik"
   ]
  },
  {
   "cell_type": "code",
   "execution_count": 134,
   "metadata": {
    "scrolled": true
   },
   "outputs": [
    {
     "data": {
      "text/html": [
       "<div>\n",
       "<style scoped>\n",
       "    .dataframe tbody tr th:only-of-type {\n",
       "        vertical-align: middle;\n",
       "    }\n",
       "\n",
       "    .dataframe tbody tr th {\n",
       "        vertical-align: top;\n",
       "    }\n",
       "\n",
       "    .dataframe thead th {\n",
       "        text-align: right;\n",
       "    }\n",
       "</style>\n",
       "<table border=\"1\" class=\"dataframe\">\n",
       "  <thead>\n",
       "    <tr style=\"text-align: right;\">\n",
       "      <th></th>\n",
       "      <th>Income</th>\n",
       "      <th>Age</th>\n",
       "      <th>Rentals</th>\n",
       "      <th>Avg Per Visit</th>\n",
       "    </tr>\n",
       "  </thead>\n",
       "  <tbody>\n",
       "    <tr>\n",
       "      <th>Income</th>\n",
       "      <td>1.000000</td>\n",
       "      <td>0.627013</td>\n",
       "      <td>-0.274873</td>\n",
       "      <td>0.305221</td>\n",
       "    </tr>\n",
       "    <tr>\n",
       "      <th>Age</th>\n",
       "      <td>0.627013</td>\n",
       "      <td>1.000000</td>\n",
       "      <td>-0.549611</td>\n",
       "      <td>0.397372</td>\n",
       "    </tr>\n",
       "    <tr>\n",
       "      <th>Rentals</th>\n",
       "      <td>-0.274873</td>\n",
       "      <td>-0.549611</td>\n",
       "      <td>1.000000</td>\n",
       "      <td>0.070302</td>\n",
       "    </tr>\n",
       "    <tr>\n",
       "      <th>Avg Per Visit</th>\n",
       "      <td>0.305221</td>\n",
       "      <td>0.397372</td>\n",
       "      <td>0.070302</td>\n",
       "      <td>1.000000</td>\n",
       "    </tr>\n",
       "  </tbody>\n",
       "</table>\n",
       "</div>"
      ],
      "text/plain": [
       "                 Income       Age   Rentals  Avg Per Visit\n",
       "Income         1.000000  0.627013 -0.274873       0.305221\n",
       "Age            0.627013  1.000000 -0.549611       0.397372\n",
       "Rentals       -0.274873 -0.549611  1.000000       0.070302\n",
       "Avg Per Visit  0.305221  0.397372  0.070302       1.000000"
      ]
     },
     "execution_count": 134,
     "metadata": {},
     "output_type": "execute_result"
    },
    {
     "data": {
      "text/plain": [
       "<Figure size 720x360 with 0 Axes>"
      ]
     },
     "metadata": {},
     "output_type": "display_data"
    }
   ],
   "source": [
    "df_clean = df.loc[:, \"Income\":\"Avg Per Visit\"]\n",
    "plt.figure(figsize=(10, 5))\n",
    "df_clean.corr(method='pearson')"
   ]
  },
  {
   "cell_type": "markdown",
   "metadata": {},
   "source": [
    "Berdasarkan tabel diatas, atribut `Income` dan `Age` memiliki korelasi terbesar, sedangkan atribut `Age` dan `Rental` memiliki korelasi terkecil. "
   ]
  },
  {
   "cell_type": "markdown",
   "metadata": {},
   "source": [
    "#### i. Scatter plot atribut numerik"
   ]
  },
  {
   "cell_type": "code",
   "execution_count": 135,
   "metadata": {},
   "outputs": [],
   "source": [
    "# fig, ax =plt.subplots(1,6, figsize=(20,5))\n",
    "# sns.scatterplot(data=df_clean, x=\"Income\", y=\"Age\", ax=ax[0])\n",
    "# sns.scatterplot(data=df_clean, x=\"Income\", y=\"Rentals\",ax=ax[1])\n",
    "# sns.scatterplot(data=df_clean, x=\"Income\", y=\"Avg Per Visit\",ax=ax[2])\n",
    "# sns.scatterplot(data=df_clean, x=\"Age\", y=\"Rentals\",ax=ax[3])\n",
    "# sns.scatterplot(data=df_clean, x=\"Age\", y=\"Avg Per Visit\",ax=ax[4])\n",
    "# sns.scatterplot(data=df_clean, x=\"Rentals\", y=\"Avg Per Visit\",ax=ax[5])\n",
    "# fig.show"
   ]
  },
  {
   "cell_type": "code",
   "execution_count": 136,
   "metadata": {},
   "outputs": [
    {
     "data": {
      "text/plain": [
       "<seaborn.axisgrid.PairGrid at 0x1e718ffd7b8>"
      ]
     },
     "execution_count": 136,
     "metadata": {},
     "output_type": "execute_result"
    },
    {
     "data": {
      "image/png": "[encoded data removed]",
      "text/plain": [
       "<Figure size 720x720 with 20 Axes>"
      ]
     },
     "metadata": {
      "needs_background": "light"
     },
     "output_type": "display_data"
    }
   ],
   "source": [
    "sns.pairplot(data = df_clean)"
   ]
  },
  {
   "cell_type": "markdown",
   "metadata": {},
   "source": [
    "#### j. Karakteristik Valued Customer"
   ]
  },
  {
   "cell_type": "code",
   "execution_count": 137,
   "metadata": {},
   "outputs": [],
   "source": [
    "valued = df[df[\"Rentals\"] >= 30]\n",
    "reg = df[df[\"Rentals\"] < 30]"
   ]
  },
  {
   "cell_type": "code",
   "execution_count": 138,
   "metadata": {},
   "outputs": [
    {
     "name": "stdout",
     "output_type": "stream",
     "text": [
      "Karakteristik customer berharga\n",
      "Income : 37666.666666666664\n",
      "Age : 25.166666666666668\n",
      "\n",
      "Karakteristik customer biasa\n",
      "Income : 44906.25\n",
      "Age : 35.15625\n"
     ]
    }
   ],
   "source": [
    "valued.head()\n",
    "\n",
    "valued_income = valued[\"Income\"].mean()\n",
    "valued_age = valued[\"Age\"].mean()\n",
    "\n",
    "reg_income = reg[\"Income\"].mean()\n",
    "reg_age = reg[\"Age\"].mean()\n",
    "\n",
    "print(\"Karakteristik customer berharga\\n\"+ \n",
    "      \"Income : \" + str(valued_income) + \n",
    "      \"\\nAge : \" + str(valued_age))\n",
    "\n",
    "print(\"\\nKarakteristik customer biasa\\n\"+ \n",
    "      \"Income : \" + str(reg_income) + \n",
    "      \"\\nAge : \" + str(reg_age))\n"
   ]
  },
  {
   "cell_type": "markdown",
   "metadata": {},
   "source": [
    "Customer berharga memiliki rerata penghasilan yang lebih kecil dari customer biasa, tetapi memiliki rerata umur yang lebih muda daripada customer biasa."
   ]
  },
  {
   "cell_type": "markdown",
   "metadata": {},
   "source": [
    "### B. Data Preprocessing"
   ]
  },
  {
   "cell_type": "markdown",
   "metadata": {},
   "source": [
    "#### a. Melakukan binning data"
   ]
  },
  {
   "cell_type": "code",
   "execution_count": null,
   "metadata": {},
   "outputs": [],
   "source": [
    "df['bin'] = pd.qcut"
   ]
  }
 ],
 "metadata": {
  "kernelspec": {
   "display_name": "Python 3",
   "language": "python",
   "name": "python3"
  },
  "language_info": {
   "codemirror_mode": {
    "name": "ipython",
    "version": 3
   },
   "file_extension": ".py",
   "mimetype": "text/x-python",
   "name": "python",
   "nbconvert_exporter": "python",
   "pygments_lexer": "ipython3",
   "version": "3.7.3"
  }
 },
 "nbformat": 4,
 "nbformat_minor": 2
}
